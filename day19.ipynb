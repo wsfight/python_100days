{
 "cells": [
  {
   "cell_type": "markdown",
   "id": "ba2204ef",
   "metadata": {},
   "source": [
    "### 面向对象编程进阶"
   ]
  },
  {
   "cell_type": "code",
   "execution_count": null,
   "id": "2a41faa6",
   "metadata": {},
   "outputs": [],
   "source": [
    "\"\"\"\n",
    "类中属性分别有:\n",
    "public:\n",
    "protected:_name     已一个下划线开头\n",
    "private:__name      已两个下划线开头\n",
    "\"\"\"\n",
    "\n",
    "\n",
    "class Student:\n",
    "    __slots__ = (\"__name\", \"__age\")  # 魔法方法,规定只能有这两个属性\n",
    "\n",
    "    def __init__(self, name: str, age: int):\n",
    "        self.__name = name\n",
    "        self.__age = age\n",
    "\n",
    "    def study(self, course_name: str):\n",
    "        print(f\"{self.__name}正在学习{course_name}...\")\n",
    "\n",
    "\n",
    "s1 = Student(\"larry\", 18)\n",
    "# print(s1.__name)  AttributeError: 'Student' object has no attribute '__name'\n",
    "s1.study(\"python\")\n",
    "print(s1._Student__name)  # python中没有绝对访问不到的属性\n",
    "# s1.sex = \"男\"   python是动态语言,可以动态的添加属性..使用了__slots__方法此动态添加则失效"
   ]
  },
  {
   "cell_type": "code",
   "execution_count": null,
   "id": "c2b889d4",
   "metadata": {},
   "outputs": [],
   "source": [
    "# 静态方法与类方法\n",
    "# property魔法方法\n",
    "class Triangle:\n",
    "    __slots__ = (\"a\", \"b\", \"c\")\n",
    "\n",
    "    def __init__(self, a: float, b: float, c: float):\n",
    "        self.a = a\n",
    "        self.b = b\n",
    "        self.c = c\n",
    "\n",
    "    def is_vaild(cls, a: float, b: float, c: float) -> bool:\n",
    "        return a + b > c and a + c > b and b + c > a\n",
    "\n",
    "    @staticmethod\n",
    "    def is_vaild2(a: float, b: float, c: float) -> bool:\n",
    "        return a + b > c and a + c > b and b + c > a\n",
    "\n",
    "    @property\n",
    "    def perimeter(self) -> float:\n",
    "        return self.a + self.b + self.c\n",
    "\n",
    "    @property\n",
    "    def area(self) -> float:\n",
    "        p = self.perimeter / 2\n",
    "        return (p * (p - self.a) * (p - self.b) * (p - self.c)) ** 0.5\n",
    "\n",
    "\n",
    "print(Triangle.is_vaild(Triangle, 3, 4, 5))  # True\n",
    "print(Triangle.is_vaild2(1, 2, 3))  # False\n",
    "t1 = Triangle(3, 4, 5)\n",
    "print(t1.perimeter)  # 加入了property就将方法变成了属性\n",
    "print(t1.area)  # 加入了property就将方法变成了属性"
   ]
  },
  {
   "cell_type": "code",
   "execution_count": null,
   "id": "ed1a5d5e",
   "metadata": {},
   "outputs": [],
   "source": [
    "# 学习继承\n",
    "## 所有一切最高继承的对象是object(默认)\n",
    "\n",
    "\n",
    "class Person:\n",
    "    def __init__(self, name, age):\n",
    "        self.name = name\n",
    "        self.age = age\n",
    "\n",
    "    def sleep(self):\n",
    "        print(f\"{self.name}正在睡觉\")\n",
    "\n",
    "\n",
    "class Student1(Person):\n",
    "    def __init__(self, name, age):\n",
    "        super().__init__(name, age)\n",
    "\n",
    "    def study(self, course_name):\n",
    "        print(f\"{self.name}正在学习{course_name}..\")\n",
    "\n",
    "\n",
    "s1 = Student1(\"larry\", 20)\n",
    "s1.sleep()\n",
    "s1.study(\"cpp\")"
   ]
  }
 ],
 "metadata": {
  "kernelspec": {
   "display_name": "Python 3",
   "language": "python",
   "name": "python3"
  },
  "language_info": {
   "codemirror_mode": {
    "name": "ipython",
    "version": 3
   },
   "file_extension": ".py",
   "mimetype": "text/x-python",
   "name": "python",
   "nbconvert_exporter": "python",
   "pygments_lexer": "ipython3",
   "version": "3.13.7"
  }
 },
 "nbformat": 4,
 "nbformat_minor": 5
}
