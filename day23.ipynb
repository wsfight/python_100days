{
 "cells": [
  {
   "cell_type": "code",
   "execution_count": null,
   "id": "edda8968",
   "metadata": {},
   "outputs": [
    {
     "name": "stdout",
     "output_type": "stream",
     "text": [
      "\"姓名\"+\"语文\"+\"数学\"+\"英语\"+\"数据结构\"\n",
      "\n",
      "\"关羽\"+\"80\"+\"69\"+\"61\"+\"96\"\n",
      "\n",
      "\"张飞\"+\"86\"+\"94\"+\"94\"+\"82\"\n",
      "\n",
      "\"赵云\"+\"83\"+\"66\"+\"63\"+\"89\"\n",
      "\n",
      "\"黄忠\"+\"72\"+\"98\"+\"100\"+\"68\"\n",
      "\n",
      "\"马超\"+\"75\"+\"90\"+\"86\"+\"91\"\n",
      "\n",
      "姓名\t语文\t数学\t英语\t数据结构\t\n",
      "\n",
      "关羽\t80\t69\t61\t96\t\n",
      "\n",
      "张飞\t86\t94\t94\t82\t\n",
      "\n",
      "赵云\t83\t66\t63\t89\t\n",
      "\n",
      "黄忠\t72\t98\t100\t68\t\n",
      "\n",
      "马超\t75\t90\t86\t91\t\n",
      "\n"
     ]
    }
   ],
   "source": [
    "# 学习csv(comma seperate values)\n",
    "# 特点:逗号分隔,纯文本.\n",
    "import csv\n",
    "import random\n",
    "\n",
    "with open(\"./res/day23.csv\", \"w+\") as file:\n",
    "    writer = csv.writer(\n",
    "        file, delimiter=\"+\", quoting=csv.QUOTE_ALL\n",
    "    )  # delimiter为分隔符,quoting为表示包围的方式,quotechar为表示包围的字符\n",
    "    writer.writerow(\n",
    "        [\"姓名\", \"语文\", \"数学\", \"英语\", \"数据结构\"]\n",
    "    )  # 相当于excel表中的第一行\n",
    "    names = [\"关羽\", \"张飞\", \"赵云\", \"黄忠\", \"马超\"]\n",
    "    for name in names:\n",
    "        scores = [\n",
    "            random.randrange(60, 101) for _ in range(4)\n",
    "        ]  # 列表生成器 来生成4个随机分数\n",
    "        scores.insert(0, name)  # 完成了一条数据的\n",
    "        writer.writerow(scores)\n",
    "\n",
    "with open(\"./res/day23.csv\", \"r\") as file:\n",
    "    for line in file:\n",
    "        print(line, end=\"\")\n",
    "\n",
    "with open(\"./res/day23.csv\", \"r\") as file:\n",
    "    reader = csv.reader(file, delimiter=\"+\")  # 返回一个迭代器\n",
    "    for data_list in reader:  # data_list 将接受一个列表\n",
    "        for elem in data_list:\n",
    "            print(elem, end=\"\\t\")\n",
    "        print()"
   ]
  }
 ],
 "metadata": {
  "kernelspec": {
   "display_name": "Python 3",
   "language": "python",
   "name": "python3"
  },
  "language_info": {
   "codemirror_mode": {
    "name": "ipython",
    "version": 3
   },
   "file_extension": ".py",
   "mimetype": "text/x-python",
   "name": "python",
   "nbconvert_exporter": "python",
   "pygments_lexer": "ipython3",
   "version": "3.13.7"
  }
 },
 "nbformat": 4,
 "nbformat_minor": 5
}
