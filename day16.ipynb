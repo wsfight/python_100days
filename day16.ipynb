{
 "cells": [
  {
   "cell_type": "markdown",
   "id": "7ce7ab3f",
   "metadata": {},
   "source": [
    "### 函数可以作为函数的参数,也可以作为函数的返回值\n",
    "#### 将函数作为参数传入其他函数只需要函数名即可"
   ]
  },
  {
   "cell_type": "code",
   "execution_count": null,
   "id": "9b7c5cd4",
   "metadata": {},
   "outputs": [],
   "source": [
    "def cal(*args, **kargs):\n",
    "    \"\"\"一个含可变参数的加法运算器\n",
    "\n",
    "    Returns:所有值的和\n",
    "    \"\"\"\n",
    "    # items生成了一个包含所有值的列表\n",
    "    items = list(args) + list(\n",
    "        kargs.values()\n",
    "    )  # 可变参数args接受多个参数,返回一个元组.可变参数kargs接受多少关键字参数,返回一个字典\n",
    "    ret = 0\n",
    "    for item in items:\n",
    "        ret += item\n",
    "    return ret\n",
    "\n",
    "\n",
    "print(cal(1, 2, 3, a=4, b=5))  # 15\n",
    "\n",
    "\n",
    "# 注意上述函数只能与加法耦合,于是引出把函数当做参数传入\n",
    "\n",
    "\n",
    "def cal(init_value, op_func, *args, **kargs):\n",
    "    \"\"\"接受一个函数,返回要求的结束\n",
    "\n",
    "    Args:\n",
    "        init_value (_type_): 根据传入函数来设置\n",
    "        op_func (_type_): 传入的函数\n",
    "    \"\"\"\n",
    "    items = list(args) + list(kargs.values())\n",
    "    ret = init_value\n",
    "    for x in items:\n",
    "        ret = op_func(ret, x)\n",
    "    return ret\n",
    "\n",
    "\n",
    "def add(x, y):\n",
    "    return x + y\n",
    "\n",
    "\n",
    "def mul(x, y):\n",
    "    return x * y\n",
    "\n",
    "\n",
    "print(cal(0, add, 1, 2, 3, k1=4, k2=5))  # 15\n",
    "print(cal(1, mul, 1, 2, 3, k1=4, k2=5))  # 120"
   ]
  },
  {
   "cell_type": "code",
   "execution_count": null,
   "id": "dff2da10",
   "metadata": {},
   "outputs": [],
   "source": [
    "\"\"\"\n",
    "filter 对序列元素进行过滤\n",
    "map 对序列元素进行映射\n",
    "都接受一个函数和一个迭代对象,返回一个迭代器.要想获得数据得用list转换\n",
    "\"\"\"\n",
    "\n",
    "import random\n",
    "\n",
    "\n",
    "def is_odd(nums):\n",
    "    \"\"\"\n",
    "    判断是不是奇数\n",
    "    \"\"\"\n",
    "    if nums % 2 != 0:\n",
    "        return True\n",
    "\n",
    "\n",
    "def square(num):\n",
    "    \"\"\"\n",
    "    对当前数进行平方\n",
    "    \"\"\"\n",
    "    return pow(num, 2)\n",
    "\n",
    "\n",
    "temp = [x for x in range(1, 101)]\n",
    "\n",
    "old_nums = random.choices(temp, k=6)\n",
    "print(old_nums)\n",
    "new_nums = list(map(square, filter(is_odd, old_nums)))  # map,filter都返回的是迭代器\n",
    "\n",
    "print(new_nums)"
   ]
  },
  {
   "cell_type": "code",
   "execution_count": null,
   "id": "83e1bc74",
   "metadata": {},
   "outputs": [],
   "source": [
    "\"\"\"\n",
    "sorted函数有无副作用设计,会返回一个排序好的副本,而对原列表无改变\n",
    "sorted函数也可以定制排序规则\n",
    "\"\"\"\n",
    "\n",
    "old_strings = [\"in\", \"apple\", \"zoo\", \"waxberry\", \"pear\"]\n",
    "new_strings = sorted(old_strings)\n",
    "print(old_strings)  # ['in', 'apple', 'zoo', 'waxberry', 'pear']\n",
    "print(new_strings)  # ['apple', 'in', 'pear', 'waxberry', 'zoo']\n",
    "new_strings1 = sorted(\n",
    "    old_strings, key=len, reverse=True\n",
    ")  # 'waxberry', 'apple', 'pear', 'zoo', 'in']\n",
    "new_strings2 = sorted(old_strings, key=len)  #'in', 'zoo', 'pear', 'apple', 'waxberry']\n",
    "print(new_strings1)\n",
    "print(new_strings2)"
   ]
  },
  {
   "cell_type": "code",
   "execution_count": 105,
   "id": "80f8cfd8",
   "metadata": {},
   "outputs": [
    {
     "name": "stdout",
     "output_type": "stream",
     "text": [
      "[9216, 16]\n",
      "720\n",
      "3628800\n",
      "3628800\n",
      "True\n"
     ]
    }
   ],
   "source": [
    "\"\"\"\n",
    "lambda函数:匿名函数\n",
    "lambda x,y: fun(x,y)\n",
    "\"\"\"\n",
    "\n",
    "import random\n",
    "import functools\n",
    "import operator\n",
    "import math\n",
    "\n",
    "old_nums = []\n",
    "for _ in range(7):\n",
    "    old_nums.append(random.randint(1, 101))\n",
    "new_nums = map(lambda x: x * x, filter(lambda x: x % 2 == 0, old_nums))\n",
    "print(list(new_nums))\n",
    "\n",
    "fac = lambda x: functools.reduce(operator.mul, range(1, x + 1), 1)\n",
    "print(fac(6))\n",
    "print(fac(10))  # 3628800\n",
    "print(math.factorial(10))  # 3628800\n",
    "\n",
    "# 2-根号x中没有x的因数\n",
    "is_prime = lambda x: all(map(lambda y: x % y != 0, range(2, int(math.sqrt(x)) + 1)))\n",
    "print(is_prime(31))"
   ]
  },
  {
   "cell_type": "code",
   "execution_count": null,
   "id": "d3ba3331",
   "metadata": {},
   "outputs": [
    {
     "name": "stdout",
     "output_type": "stream",
     "text": [
      "9\n",
      "1001\n",
      "513\n"
     ]
    }
   ],
   "source": [
    "import functools\n",
    "\n",
    "int2 = functools.partial(int, base=2)\n",
    "int8 = functools.partial(int, base=8)\n",
    "print(int2(\"1001\"))  # 9\n",
    "print(int(\"1001\"))  # 1001\n",
    "print(int8(\"1001\"))  # 513"
   ]
  }
 ],
 "metadata": {
  "kernelspec": {
   "display_name": "Python 3",
   "language": "python",
   "name": "python3"
  },
  "language_info": {
   "codemirror_mode": {
    "name": "ipython",
    "version": 3
   },
   "file_extension": ".py",
   "mimetype": "text/x-python",
   "name": "python",
   "nbconvert_exporter": "python",
   "pygments_lexer": "ipython3",
   "version": "3.13.7"
  }
 },
 "nbformat": 4,
 "nbformat_minor": 5
}
