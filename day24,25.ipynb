{
 "cells": [
  {
   "cell_type": "code",
   "execution_count": null,
   "id": "808c9f4b",
   "metadata": {},
   "outputs": [],
   "source": [
    "import openpyxl  # 只可用于xlsx\n",
    "import datetime\n",
    "\n",
    "# 加载一个工作簿\n",
    "xl = openpyxl.load_workbook(\"./res/阿里巴巴2020年股票数据.xlsx\")\n",
    "# 获取工作簿中工作表的名字\n",
    "print(xl.sheetnames)\n",
    "print(xl.sheetnames[0])  # 股票数据\n",
    "# 获取股票数据工作表\n",
    "sheet1 = xl.worksheets[0]\n",
    "print(sheet1)\n",
    "# 获取股票数据工作表的大小\n",
    "print(sheet1.dimensions)  # A1:G255\n",
    "# 获取股票数据工作表的列和行\n",
    "print(sheet1.max_column, sheet1.max_row)  # 7 255  列:7,行:255\n",
    "# 获取指定单元格的值\n",
    "print(sheet1.cell(3, 3).value)  # 216.5399932861328\n",
    "print(type(sheet1))\n",
    "print(sheet1[\"C3\"].value)  # 216.5399932861328\n",
    "# 获取多个单元格的值\n",
    "print(sheet1[\"A2\":\"A255\"])\n",
    "for row1 in sheet1[\"A2\":\"A22\"]:\n",
    "    for cell in row1:  # row1是元组,每个元素都是cell对象..\n",
    "        print(cell.value)\n",
    "# 读取所有单元格的值\n",
    "for row_ch in range(2, sheet1.max_row + 1):\n",
    "    for column_ch in \"ABCDEFG\":\n",
    "        value = sheet1[f\"{column_ch}{row_ch}\"].value\n",
    "        if type(value) is datetime.datetime:\n",
    "            print(value.strftime(\"%Y年%m月%d日\"), end=\"\\t\")\n",
    "        elif type(value) == int:\n",
    "            print(f\"{value:<10d}\", end=\"\\t\")\n",
    "        elif type(value) == float:\n",
    "            print(f\"{value:.4f}\", end=\"\\t\")\n",
    "        else:\n",
    "            print(value, end=\"\\t\")\n",
    "    print()"
   ]
  },
  {
   "cell_type": "code",
   "execution_count": 1,
   "id": "d4b2005f",
   "metadata": {},
   "outputs": [],
   "source": [
    "# 开始写一个excel工作簿\n",
    "import openpyxl\n",
    "import random\n",
    "\n",
    "\n",
    "# 1.创建一个工作簿\n",
    "wb = openpyxl.Workbook()\n",
    "\n",
    "# 2.添加工作表\n",
    "sheet1 = wb.active\n",
    "sheet1.title = \"期末成绩\"\n",
    "\n",
    "# 3.开始写入\n",
    "col_title = (\"姓名\", \"语文\", \"数学\", \"英语\", \"计算机\")\n",
    "for col_index, title in enumerate(col_title):\n",
    "    sheet1.cell(1, col_index + 1, title)\n",
    "\n",
    "names = [f\"larry{i}\" for i in range(1, 11)]\n",
    "for row_index, name in enumerate(names):\n",
    "    sheet1.cell(row_index + 2, 1, name)  # 一行一行的写\n",
    "    for col_index in range(2, 6):\n",
    "        sheet1.cell(row_index + 2, col_index, random.randrange(60, 101))\n",
    "\n",
    "# 4.保存工作簿\n",
    "wb.save(\"./res/day24考试工作簿.xlsx\")"
   ]
  },
  {
   "cell_type": "code",
   "execution_count": 19,
   "id": "51872623",
   "metadata": {},
   "outputs": [],
   "source": [
    "# 开始学习调整样式和公式计算\n",
    "import openpyxl\n",
    "\n",
    "# 1.打开工作簿\n",
    "wb = openpyxl.load_workbook(\"./res/day24考试工作簿.xlsx\")\n",
    "# 2.获取工作表\n",
    "sheet1 = wb.worksheets[0]\n",
    "# 3.调整行高列宽\n",
    "sheet1.row_dimensions[1].height = 15\n",
    "sheet1.column_dimensions[\"A\"].width = 15  # 列维度的索引还必须要字符串..\n",
    "for row_index in range(1, sheet1.max_row + 1):\n",
    "    sheet1.row_dimensions[row_index].height = 15\n",
    "\n",
    "wb.save(\"./res/day24考试工作簿.xlsx\")"
   ]
  }
 ],
 "metadata": {
  "kernelspec": {
   "display_name": "Python 3",
   "language": "python",
   "name": "python3"
  },
  "language_info": {
   "codemirror_mode": {
    "name": "ipython",
    "version": 3
   },
   "file_extension": ".py",
   "mimetype": "text/x-python",
   "name": "python",
   "nbconvert_exporter": "python",
   "pygments_lexer": "ipython3",
   "version": "3.13.7"
  }
 },
 "nbformat": 4,
 "nbformat_minor": 5
}
