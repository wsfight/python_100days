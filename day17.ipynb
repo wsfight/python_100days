{
 "cells": [
  {
   "cell_type": "markdown",
   "id": "c0363f39",
   "metadata": {},
   "source": [
    "### 装饰器学习\n",
    "#### 一个函数装饰另外一个函数,并提供额外功能的现象"
   ]
  },
  {
   "cell_type": "code",
   "execution_count": null,
   "id": "86677df5",
   "metadata": {},
   "outputs": [],
   "source": [
    "import time\n",
    "import random\n",
    "\n",
    "\n",
    "# 引例\n",
    "def download(filename):\n",
    "    # 下载文件\n",
    "    print(f\"{filename}开始下载...\")\n",
    "    time.sleep(random.random() * 6)  # random.random() 返回一个[0,1)的值\n",
    "    print(f\"{filename}下载完成...\")\n",
    "\n",
    "\n",
    "def upload(filename):\n",
    "    # 上传文件\n",
    "    print(f\"{filename}开始上传..\")\n",
    "    time.sleep(random.random() * 10)\n",
    "    print(f\"{filename}上传完成..\")\n",
    "\n",
    "\n",
    "start_download = time.time()\n",
    "download(\"sql从删库到跑路..\")\n",
    "end_download = time.time()\n",
    "print(f\"花费时间:{(end_download - start_download):.2f}s!\")\n",
    "upload(\"人生苦短,我用python..\")\n",
    "\n",
    "\n",
    "def record_time(func):\n",
    "    def wrapper(*args, **kargs):\n",
    "        start_download = time.time()\n",
    "        result = func(*args, **kargs)\n",
    "        end_download = time.time()\n",
    "        print(f\"{func.__name__}执行时间为{(end_download-start_download):.2f}s!\")\n",
    "        return result\n",
    "\n",
    "    return wrapper\n",
    "\n",
    "\n",
    "# 装饰器第一种写法\n",
    "download = record_time(download)\n",
    "upload = record_time(upload)\n",
    "download(\"python大法好!!\")\n",
    "upload(\"学习!!\")"
   ]
  },
  {
   "cell_type": "code",
   "execution_count": null,
   "id": "941ff2bf",
   "metadata": {},
   "outputs": [],
   "source": [
    "# 装饰器的第二种写法\n",
    "import time\n",
    "from functools import wraps\n",
    "\n",
    "\n",
    "def recode_time1(func):\n",
    "    @wraps(func)\n",
    "    def wrapper(*args, **kargs):\n",
    "        start_download = time.time()\n",
    "        result = func(*args)\n",
    "        end_download = time.time()\n",
    "        print(f\"{args[0]}执行时间为{(end_download-start_download):.2f}s!!\")\n",
    "\n",
    "    return wrapper\n",
    "\n",
    "\n",
    "@recode_time1\n",
    "def download1(filename):\n",
    "    print(f\"{filename}开始下载....\")\n",
    "    time.sleep(random.random() * 2)\n",
    "    print(f\"{filename}下载完成....\")\n",
    "\n",
    "\n",
    "download1(\"python\")\n",
    "download1.__wrapped__(\"python\")"
   ]
  }
 ],
 "metadata": {
  "kernelspec": {
   "display_name": "Python 3",
   "language": "python",
   "name": "python3"
  },
  "language_info": {
   "codemirror_mode": {
    "name": "ipython",
    "version": 3
   },
   "file_extension": ".py",
   "mimetype": "text/x-python",
   "name": "python",
   "nbconvert_exporter": "python",
   "pygments_lexer": "ipython3",
   "version": "3.13.7"
  }
 },
 "nbformat": 4,
 "nbformat_minor": 5
}
