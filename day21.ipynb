{
 "cells": [
  {
   "cell_type": "code",
   "execution_count": null,
   "id": "5061230e",
   "metadata": {},
   "outputs": [],
   "source": [
    "# 学习文件的读写\n",
    "file = open(\"./res/day21.txt\", \"r\", encoding=\"utf-8\")\n",
    "for line in file:\n",
    "    print(line, end=\"\")  # 可以按行读入 为什么他会自动换行?\n",
    "file.close()\n",
    "file = open(\"./res/day21.txt\", \"r\", encoding=\"utf-8\")\n",
    "lines = file.readlines()  # 按行读入,存入一个列表容器中\n",
    "for line in lines:\n",
    "    print(line, end=\"\")\n",
    "file.close()  # 文件打开后一定要关闭\n",
    "\n",
    "file = open(\"./res/day21.txt\", \"a+\", encoding=\"utf-8\")  # a模式为追加\n",
    "file.write(\"\\nauthor:vegetabledog\")\n",
    "file.write(\"\\nversion:1.0\")\n",
    "for line in file:\n",
    "    print(line, end=\"\")\n",
    "file.close()"
   ]
  },
  {
   "cell_type": "code",
   "execution_count": null,
   "id": "b00dd049",
   "metadata": {},
   "outputs": [],
   "source": [
    "# 学习异常处理\n",
    "# 关键字try except else finally raise\n",
    "file = None\n",
    "try:\n",
    "    file = open(\"./res/day21.txt\", \"r\", encoding=\"utf-8\")\n",
    "except FileNotFoundError:\n",
    "    # 引发了文件不存错误时执行\n",
    "    print(\"文件不存在\")\n",
    "finally:\n",
    "    # finally是总是会执行的代码..一般用于释放资源\n",
    "    if file:\n",
    "        file.close()\n",
    "\n",
    "\n",
    "class InputError(ValueError):\n",
    "    pass\n",
    "\n",
    "\n",
    "def fac(n: int) -> int:\n",
    "    if n < 0:\n",
    "        raise InputError(\"只能计算正整数!\")\n",
    "    if n in (0, 1):\n",
    "        return 1\n",
    "    return n * fac(n - 1)\n",
    "\n",
    "\n",
    "flag = True\n",
    "while flag:\n",
    "    num = int(input(\"n = \"))\n",
    "    try:\n",
    "        print(f\"{num}! = {fac(num)}\")\n",
    "        flag = False\n",
    "    except InputError as err:  # 用as可以把结果异常结果打印出来.\n",
    "        print(err)"
   ]
  },
  {
   "cell_type": "code",
   "execution_count": null,
   "id": "c6423c35",
   "metadata": {},
   "outputs": [],
   "source": []
  }
 ],
 "metadata": {
  "kernelspec": {
   "display_name": "Python 3",
   "language": "python",
   "name": "python3"
  },
  "language_info": {
   "codemirror_mode": {
    "name": "ipython",
    "version": 3
   },
   "file_extension": ".py",
   "mimetype": "text/x-python",
   "name": "python",
   "nbconvert_exporter": "python",
   "pygments_lexer": "ipython3",
   "version": "3.13.7"
  }
 },
 "nbformat": 4,
 "nbformat_minor": 5
}
