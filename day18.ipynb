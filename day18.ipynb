{
 "cells": [
  {
   "cell_type": "markdown",
   "id": "b23c8060",
   "metadata": {},
   "source": [
    "### 面向对象编程初步"
   ]
  },
  {
   "cell_type": "code",
   "execution_count": null,
   "id": "ada544cc",
   "metadata": {},
   "outputs": [
    {
     "name": "stdout",
     "output_type": "stream",
     "text": [
      "当前时间为:3小时52分12秒....\n"
     ]
    }
   ],
   "source": [
    "import time\n",
    "\n",
    "\n",
    "class Clock:\n",
    "    def __init__(self, sec: int = 0, min: int = 0, hour: int = 0):\n",
    "        \"\"\"初始化时钟类\n",
    "\n",
    "        Args:\n",
    "            sec (int, optional): 秒针. Defaults to 0.\n",
    "            min (int, optional): 分针. Defaults to 0.\n",
    "            hour (int, optional): 时针. Defaults to 0.\n",
    "        \"\"\"\n",
    "        self.sec = sec\n",
    "        self.min = min\n",
    "        self.hour = hour\n",
    "\n",
    "    def run(self):\n",
    "        self.sec += 1\n",
    "        if self.sec == 60:\n",
    "            self.min += 1\n",
    "            self.sec = 0\n",
    "            if self.min == 60:\n",
    "                self.hour += 1\n",
    "                self.min = 0\n",
    "                if self.hour == 24:\n",
    "                    self.hour = 0\n",
    "\n",
    "    def show(self):\n",
    "        print(f\"当前时间为:{self.hour}小时{self.min}分{self.sec}秒....\")\n",
    "\n",
    "\n",
    "myclock = Clock(10, 52, 3)\n",
    "time.sleep(2)\n",
    "myclock.run()\n",
    "myclock.run()\n",
    "myclock.show()"
   ]
  },
  {
   "cell_type": "code",
   "execution_count": null,
   "id": "ceae8eec",
   "metadata": {},
   "outputs": [
    {
     "name": "stdout",
     "output_type": "stream",
     "text": [
      "1,2\n",
      "5.0\n"
     ]
    }
   ],
   "source": [
    "# 定义平面上一个点,并提供此点到另外一个点的距离的方法\n",
    "import math\n",
    "from __future__ import annotations\n",
    "\n",
    "\n",
    "class Point:\n",
    "    def __init__(self, x: float = 0, y: float = 0):\n",
    "        \"\"\"定义一个点的x,y\n",
    "\n",
    "        Args:\n",
    "            x (float, optional): 平面上x点. Defaults to 0.\n",
    "            y (float, optional): 平面上y点. Defaults to 0.\n",
    "        \"\"\"\n",
    "        self.x = x\n",
    "        self.y = y\n",
    "\n",
    "    def distance_to(self, other: Point) -> float:\n",
    "        \"\"\"计算本点到另外一个点的距离\n",
    "\n",
    "        Args:\n",
    "            other (Point): 另外一个点\n",
    "        Returns:\n",
    "            返回两点之间的距离\n",
    "        \"\"\"\n",
    "        distance_x = abs(self.x - other.x)\n",
    "        distance_y = abs(self.y - other.y)\n",
    "        return math.sqrt(pow(distance_x, 2) + pow(distance_y, 2))\n",
    "\n",
    "    def __str__(self):\n",
    "        return f\"{self.x},{self.y}\"\n",
    "\n",
    "\n",
    "p1 = Point(1, 2)\n",
    "print(p1)  # 1,2\n",
    "p2 = Point(4, 6)\n",
    "distance = p1.distance_to(p2)\n",
    "print(distance)  # 5"
   ]
  }
 ],
 "metadata": {
  "kernelspec": {
   "display_name": "Python 3",
   "language": "python",
   "name": "python3"
  },
  "language_info": {
   "codemirror_mode": {
    "name": "ipython",
    "version": 3
   },
   "file_extension": ".py",
   "mimetype": "text/x-python",
   "name": "python",
   "nbconvert_exporter": "python",
   "pygments_lexer": "ipython3",
   "version": "3.13.7"
  }
 },
 "nbformat": 4,
 "nbformat_minor": 5
}
