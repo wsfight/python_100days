{
 "cells": [
  {
   "cell_type": "code",
   "execution_count": null,
   "id": "623d4312",
   "metadata": {},
   "outputs": [],
   "source": [
    "# 学习json基础\n",
    "# 序列化就是将数据转换成可存储或传输的形式\n",
    "import json\n",
    "\n",
    "my_info = {\n",
    "    \"name\": \"vegetabledog\",\n",
    "    \"age\": 100,\n",
    "    \"friends\": [\"jeff dean\", \"hinton\"],\n",
    "    \"cars\": [{\"brand\": \"小刀\", \"max_speed\": 120}, {\"brand\": \"雅迪\", \"max_speed\": 240}],\n",
    "}\n",
    "my_dict1 = json.dumps(my_info)\n",
    "print(my_dict1)  # json.dumps 将python对象处理成json格式字符串\n",
    "my_dict2 = json.loads(my_dict1)\n",
    "print(my_dict2)  # json.loads 反序列化\n",
    "with open(\"./res/day22.json\", \"w\") as file:\n",
    "    json.dump(my_info, file)\n",
    "\n",
    "with open(\"./res/day22.json\", \"r\") as file:\n",
    "    my_dict = json.load(file)  # 反序列化\n",
    "    print(type(my_dict))  # dict\n",
    "    print(my_dict)\n",
    "\n",
    "print(my_dict)"
   ]
  },
  {
   "cell_type": "code",
   "execution_count": null,
   "id": "30429cae",
   "metadata": {},
   "outputs": [],
   "source": [
    "# 学习包管理工具pip\n",
    "# windows:pip\n",
    "# mac和linux:pip3\n",
    "# pip list 来查看已安装的第三方库\n",
    "# pip install --upgrade 来更新第三方库"
   ]
  },
  {
   "cell_type": "code",
   "execution_count": null,
   "id": "3fc55d2f",
   "metadata": {},
   "outputs": [],
   "source": [
    "# 学习requests库\n",
    "import requests\n",
    "\n",
    "response = requests.get(\n",
    "    \"https://apis.tianapi.com/zhanan/index?key=58e335a5bc48e55452a398e4105c357a\"\n",
    ")  # 免费的接口,每天只有100次\n",
    "\n",
    "if response.status_code == 200:\n",
    "    data_model = response.json()  # 返回的值处理成python中的字典\n",
    "print(data_model)\n",
    "print(\n",
    "    data_model[\"result\"][\"content\"]\n",
    ")  # 抱歉宝贝，我有时候会像断网一样突然消失，那是因为我在努力升级自己，为了更好地服务你。"
   ]
  }
 ],
 "metadata": {
  "kernelspec": {
   "display_name": "Python 3",
   "language": "python",
   "name": "python3"
  },
  "language_info": {
   "codemirror_mode": {
    "name": "ipython",
    "version": 3
   },
   "file_extension": ".py",
   "mimetype": "text/x-python",
   "name": "python",
   "nbconvert_exporter": "python",
   "pygments_lexer": "ipython3",
   "version": "3.13.7"
  }
 },
 "nbformat": 4,
 "nbformat_minor": 5
}
